{
  "cells": [
    {
      "cell_type": "markdown",
      "metadata": {
        "colab_type": "text",
        "id": "view-in-github"
      },
      "source": [
        "<a href=\"https://colab.research.google.com/github/OispovIA/masters_thesis/blob/main/notebooks/Training_on_partial_data.ipynb\" target=\"_parent\"><img src=\"https://colab.research.google.com/assets/colab-badge.svg\" alt=\"Open In Colab\"/></a>"
      ]
    },
    {
      "cell_type": "code",
      "execution_count": 13,
      "id": "1adb5d0b",
      "metadata": {
        "id": "1adb5d0b"
      },
      "outputs": [],
      "source": [
        "import numpy as np\n",
        "import matplotlib.pyplot as plt\n",
        "import pandas as pd\n",
        "from sklearn.preprocessing import OneHotEncoder\n",
        "from sklearn.preprocessing import MinMaxScaler\n",
        "from numpy.linalg import norm"
      ]
    },
    {
      "cell_type": "markdown",
      "id": "a6b8f50e",
      "metadata": {
        "id": "a6b8f50e"
      },
      "source": [
        "## Загрузка данных"
      ]
    },
    {
      "cell_type": "code",
      "execution_count": 14,
      "id": "ErymurYfsizN",
      "metadata": {
        "id": "ErymurYfsizN"
      },
      "outputs": [],
      "source": [
        "url = 'https://drive.google.com/uc?id=1-zZFOjNTjPhiwxB3ZyyNjrifOq7JOptU'\n",
        "data = pd.read_csv(url, sep=';', index_col='Unnamed: 0', encoding='cp1251')"
      ]
    },
    {
      "cell_type": "code",
      "execution_count": 15,
      "id": "13438db6",
      "metadata": {
        "colab": {
          "base_uri": "https://localhost:8080/",
          "height": 467
        },
        "id": "13438db6",
        "outputId": "3c7aaf9c-7a5d-4605-d2ea-1ff07a9a4b7d",
        "scrolled": false
      },
      "outputs": [
        {
          "data": {
            "text/html": [
              "\n",
              "  <div id=\"df-95dbca76-55e5-4a64-a56b-985447f74d84\">\n",
              "    <div class=\"colab-df-container\">\n",
              "      <div>\n",
              "<style scoped>\n",
              "    .dataframe tbody tr th:only-of-type {\n",
              "        vertical-align: middle;\n",
              "    }\n",
              "\n",
              "    .dataframe tbody tr th {\n",
              "        vertical-align: top;\n",
              "    }\n",
              "\n",
              "    .dataframe thead th {\n",
              "        text-align: right;\n",
              "    }\n",
              "</style>\n",
              "<table border=\"1\" class=\"dataframe\">\n",
              "  <thead>\n",
              "    <tr style=\"text-align: right;\">\n",
              "      <th></th>\n",
              "      <th>PORO</th>\n",
              "      <th>SW</th>\n",
              "      <th>KRW</th>\n",
              "      <th>system_number</th>\n",
              "      <th>@NTG@</th>\n",
              "      <th>@RVAR@</th>\n",
              "      <th>@PERMX@</th>\n",
              "      <th>l_horiz</th>\n",
              "      <th>param_x</th>\n",
              "      <th>param_y</th>\n",
              "      <th>n_frac</th>\n",
              "      <th>xf_prod</th>\n",
              "      <th>xf_inj</th>\n",
              "      <th>rotation_angle</th>\n",
              "      <th>switch_period</th>\n",
              "      <th>dFrac</th>\n",
              "      <th>КИН (100)</th>\n",
              "    </tr>\n",
              "  </thead>\n",
              "  <tbody>\n",
              "    <tr>\n",
              "      <th>1</th>\n",
              "      <td>0.17</td>\n",
              "      <td>0.3</td>\n",
              "      <td>0.15</td>\n",
              "      <td>1</td>\n",
              "      <td>0.1</td>\n",
              "      <td>50</td>\n",
              "      <td>0.05</td>\n",
              "      <td>0</td>\n",
              "      <td>100</td>\n",
              "      <td>100</td>\n",
              "      <td>1</td>\n",
              "      <td>50</td>\n",
              "      <td>50</td>\n",
              "      <td>45</td>\n",
              "      <td>1</td>\n",
              "      <td>0</td>\n",
              "      <td>0.0441</td>\n",
              "    </tr>\n",
              "    <tr>\n",
              "      <th>2</th>\n",
              "      <td>0.17</td>\n",
              "      <td>0.3</td>\n",
              "      <td>0.15</td>\n",
              "      <td>1</td>\n",
              "      <td>0.1</td>\n",
              "      <td>50</td>\n",
              "      <td>0.05</td>\n",
              "      <td>0</td>\n",
              "      <td>100</td>\n",
              "      <td>100</td>\n",
              "      <td>1</td>\n",
              "      <td>50</td>\n",
              "      <td>50</td>\n",
              "      <td>45</td>\n",
              "      <td>3</td>\n",
              "      <td>0</td>\n",
              "      <td>0.0514</td>\n",
              "    </tr>\n",
              "    <tr>\n",
              "      <th>3</th>\n",
              "      <td>0.17</td>\n",
              "      <td>0.3</td>\n",
              "      <td>0.15</td>\n",
              "      <td>1</td>\n",
              "      <td>0.1</td>\n",
              "      <td>50</td>\n",
              "      <td>0.05</td>\n",
              "      <td>0</td>\n",
              "      <td>100</td>\n",
              "      <td>100</td>\n",
              "      <td>1</td>\n",
              "      <td>50</td>\n",
              "      <td>50</td>\n",
              "      <td>45</td>\n",
              "      <td>6</td>\n",
              "      <td>0</td>\n",
              "      <td>0.0559</td>\n",
              "    </tr>\n",
              "    <tr>\n",
              "      <th>4</th>\n",
              "      <td>0.17</td>\n",
              "      <td>0.3</td>\n",
              "      <td>0.15</td>\n",
              "      <td>1</td>\n",
              "      <td>0.1</td>\n",
              "      <td>50</td>\n",
              "      <td>0.05</td>\n",
              "      <td>0</td>\n",
              "      <td>100</td>\n",
              "      <td>100</td>\n",
              "      <td>1</td>\n",
              "      <td>50</td>\n",
              "      <td>50</td>\n",
              "      <td>0</td>\n",
              "      <td>1</td>\n",
              "      <td>0</td>\n",
              "      <td>0.1548</td>\n",
              "    </tr>\n",
              "    <tr>\n",
              "      <th>5</th>\n",
              "      <td>0.17</td>\n",
              "      <td>0.3</td>\n",
              "      <td>0.15</td>\n",
              "      <td>1</td>\n",
              "      <td>0.1</td>\n",
              "      <td>50</td>\n",
              "      <td>0.05</td>\n",
              "      <td>0</td>\n",
              "      <td>100</td>\n",
              "      <td>100</td>\n",
              "      <td>1</td>\n",
              "      <td>50</td>\n",
              "      <td>50</td>\n",
              "      <td>0</td>\n",
              "      <td>3</td>\n",
              "      <td>0</td>\n",
              "      <td>0.1576</td>\n",
              "    </tr>\n",
              "    <tr>\n",
              "      <th>...</th>\n",
              "      <td>...</td>\n",
              "      <td>...</td>\n",
              "      <td>...</td>\n",
              "      <td>...</td>\n",
              "      <td>...</td>\n",
              "      <td>...</td>\n",
              "      <td>...</td>\n",
              "      <td>...</td>\n",
              "      <td>...</td>\n",
              "      <td>...</td>\n",
              "      <td>...</td>\n",
              "      <td>...</td>\n",
              "      <td>...</td>\n",
              "      <td>...</td>\n",
              "      <td>...</td>\n",
              "      <td>...</td>\n",
              "      <td>...</td>\n",
              "    </tr>\n",
              "    <tr>\n",
              "      <th>124412</th>\n",
              "      <td>0.17</td>\n",
              "      <td>0.3</td>\n",
              "      <td>0.15</td>\n",
              "      <td>1301</td>\n",
              "      <td>0.6</td>\n",
              "      <td>1000</td>\n",
              "      <td>2.00</td>\n",
              "      <td>2000</td>\n",
              "      <td>300</td>\n",
              "      <td>2200</td>\n",
              "      <td>20</td>\n",
              "      <td>100</td>\n",
              "      <td>100</td>\n",
              "      <td>45</td>\n",
              "      <td>10000</td>\n",
              "      <td>100</td>\n",
              "      <td>0.0754</td>\n",
              "    </tr>\n",
              "    <tr>\n",
              "      <th>124413</th>\n",
              "      <td>0.17</td>\n",
              "      <td>0.3</td>\n",
              "      <td>0.15</td>\n",
              "      <td>1301</td>\n",
              "      <td>0.6</td>\n",
              "      <td>1000</td>\n",
              "      <td>2.00</td>\n",
              "      <td>1000</td>\n",
              "      <td>300</td>\n",
              "      <td>1200</td>\n",
              "      <td>10</td>\n",
              "      <td>150</td>\n",
              "      <td>150</td>\n",
              "      <td>45</td>\n",
              "      <td>10000</td>\n",
              "      <td>100</td>\n",
              "      <td>0.0769</td>\n",
              "    </tr>\n",
              "    <tr>\n",
              "      <th>124414</th>\n",
              "      <td>0.17</td>\n",
              "      <td>0.3</td>\n",
              "      <td>0.15</td>\n",
              "      <td>1301</td>\n",
              "      <td>0.6</td>\n",
              "      <td>1000</td>\n",
              "      <td>2.00</td>\n",
              "      <td>1200</td>\n",
              "      <td>300</td>\n",
              "      <td>1400</td>\n",
              "      <td>12</td>\n",
              "      <td>150</td>\n",
              "      <td>150</td>\n",
              "      <td>45</td>\n",
              "      <td>10000</td>\n",
              "      <td>100</td>\n",
              "      <td>0.0766</td>\n",
              "    </tr>\n",
              "    <tr>\n",
              "      <th>124415</th>\n",
              "      <td>0.17</td>\n",
              "      <td>0.3</td>\n",
              "      <td>0.15</td>\n",
              "      <td>1301</td>\n",
              "      <td>0.6</td>\n",
              "      <td>1000</td>\n",
              "      <td>2.00</td>\n",
              "      <td>1500</td>\n",
              "      <td>300</td>\n",
              "      <td>1700</td>\n",
              "      <td>15</td>\n",
              "      <td>150</td>\n",
              "      <td>150</td>\n",
              "      <td>45</td>\n",
              "      <td>10000</td>\n",
              "      <td>100</td>\n",
              "      <td>0.0764</td>\n",
              "    </tr>\n",
              "    <tr>\n",
              "      <th>124416</th>\n",
              "      <td>0.17</td>\n",
              "      <td>0.3</td>\n",
              "      <td>0.15</td>\n",
              "      <td>1301</td>\n",
              "      <td>0.6</td>\n",
              "      <td>1000</td>\n",
              "      <td>2.00</td>\n",
              "      <td>2000</td>\n",
              "      <td>300</td>\n",
              "      <td>2200</td>\n",
              "      <td>20</td>\n",
              "      <td>150</td>\n",
              "      <td>150</td>\n",
              "      <td>45</td>\n",
              "      <td>10000</td>\n",
              "      <td>100</td>\n",
              "      <td>0.0762</td>\n",
              "    </tr>\n",
              "  </tbody>\n",
              "</table>\n",
              "<p>124416 rows × 17 columns</p>\n",
              "</div>\n",
              "      <button class=\"colab-df-convert\" onclick=\"convertToInteractive('df-95dbca76-55e5-4a64-a56b-985447f74d84')\"\n",
              "              title=\"Convert this dataframe to an interactive table.\"\n",
              "              style=\"display:none;\">\n",
              "        \n",
              "  <svg xmlns=\"http://www.w3.org/2000/svg\" height=\"24px\"viewBox=\"0 0 24 24\"\n",
              "       width=\"24px\">\n",
              "    <path d=\"M0 0h24v24H0V0z\" fill=\"none\"/>\n",
              "    <path d=\"M18.56 5.44l.94 2.06.94-2.06 2.06-.94-2.06-.94-.94-2.06-.94 2.06-2.06.94zm-11 1L8.5 8.5l.94-2.06 2.06-.94-2.06-.94L8.5 2.5l-.94 2.06-2.06.94zm10 10l.94 2.06.94-2.06 2.06-.94-2.06-.94-.94-2.06-.94 2.06-2.06.94z\"/><path d=\"M17.41 7.96l-1.37-1.37c-.4-.4-.92-.59-1.43-.59-.52 0-1.04.2-1.43.59L10.3 9.45l-7.72 7.72c-.78.78-.78 2.05 0 2.83L4 21.41c.39.39.9.59 1.41.59.51 0 1.02-.2 1.41-.59l7.78-7.78 2.81-2.81c.8-.78.8-2.07 0-2.86zM5.41 20L4 18.59l7.72-7.72 1.47 1.35L5.41 20z\"/>\n",
              "  </svg>\n",
              "      </button>\n",
              "      \n",
              "  <style>\n",
              "    .colab-df-container {\n",
              "      display:flex;\n",
              "      flex-wrap:wrap;\n",
              "      gap: 12px;\n",
              "    }\n",
              "\n",
              "    .colab-df-convert {\n",
              "      background-color: #E8F0FE;\n",
              "      border: none;\n",
              "      border-radius: 50%;\n",
              "      cursor: pointer;\n",
              "      display: none;\n",
              "      fill: #1967D2;\n",
              "      height: 32px;\n",
              "      padding: 0 0 0 0;\n",
              "      width: 32px;\n",
              "    }\n",
              "\n",
              "    .colab-df-convert:hover {\n",
              "      background-color: #E2EBFA;\n",
              "      box-shadow: 0px 1px 2px rgba(60, 64, 67, 0.3), 0px 1px 3px 1px rgba(60, 64, 67, 0.15);\n",
              "      fill: #174EA6;\n",
              "    }\n",
              "\n",
              "    [theme=dark] .colab-df-convert {\n",
              "      background-color: #3B4455;\n",
              "      fill: #D2E3FC;\n",
              "    }\n",
              "\n",
              "    [theme=dark] .colab-df-convert:hover {\n",
              "      background-color: #434B5C;\n",
              "      box-shadow: 0px 1px 3px 1px rgba(0, 0, 0, 0.15);\n",
              "      filter: drop-shadow(0px 1px 2px rgba(0, 0, 0, 0.3));\n",
              "      fill: #FFFFFF;\n",
              "    }\n",
              "  </style>\n",
              "\n",
              "      <script>\n",
              "        const buttonEl =\n",
              "          document.querySelector('#df-95dbca76-55e5-4a64-a56b-985447f74d84 button.colab-df-convert');\n",
              "        buttonEl.style.display =\n",
              "          google.colab.kernel.accessAllowed ? 'block' : 'none';\n",
              "\n",
              "        async function convertToInteractive(key) {\n",
              "          const element = document.querySelector('#df-95dbca76-55e5-4a64-a56b-985447f74d84');\n",
              "          const dataTable =\n",
              "            await google.colab.kernel.invokeFunction('convertToInteractive',\n",
              "                                                     [key], {});\n",
              "          if (!dataTable) return;\n",
              "\n",
              "          const docLinkHtml = 'Like what you see? Visit the ' +\n",
              "            '<a target=\"_blank\" href=https://colab.research.google.com/notebooks/data_table.ipynb>data table notebook</a>'\n",
              "            + ' to learn more about interactive tables.';\n",
              "          element.innerHTML = '';\n",
              "          dataTable['output_type'] = 'display_data';\n",
              "          await google.colab.output.renderOutput(dataTable, element);\n",
              "          const docLink = document.createElement('div');\n",
              "          docLink.innerHTML = docLinkHtml;\n",
              "          element.appendChild(docLink);\n",
              "        }\n",
              "      </script>\n",
              "    </div>\n",
              "  </div>\n",
              "  "
            ],
            "text/plain": [
              "        PORO   SW   KRW  system_number  @NTG@  @RVAR@  @PERMX@  l_horiz  \\\n",
              "1       0.17  0.3  0.15              1    0.1      50     0.05        0   \n",
              "2       0.17  0.3  0.15              1    0.1      50     0.05        0   \n",
              "3       0.17  0.3  0.15              1    0.1      50     0.05        0   \n",
              "4       0.17  0.3  0.15              1    0.1      50     0.05        0   \n",
              "5       0.17  0.3  0.15              1    0.1      50     0.05        0   \n",
              "...      ...  ...   ...            ...    ...     ...      ...      ...   \n",
              "124412  0.17  0.3  0.15           1301    0.6    1000     2.00     2000   \n",
              "124413  0.17  0.3  0.15           1301    0.6    1000     2.00     1000   \n",
              "124414  0.17  0.3  0.15           1301    0.6    1000     2.00     1200   \n",
              "124415  0.17  0.3  0.15           1301    0.6    1000     2.00     1500   \n",
              "124416  0.17  0.3  0.15           1301    0.6    1000     2.00     2000   \n",
              "\n",
              "        param_x  param_y  n_frac  xf_prod  xf_inj  rotation_angle  \\\n",
              "1           100      100       1       50      50              45   \n",
              "2           100      100       1       50      50              45   \n",
              "3           100      100       1       50      50              45   \n",
              "4           100      100       1       50      50               0   \n",
              "5           100      100       1       50      50               0   \n",
              "...         ...      ...     ...      ...     ...             ...   \n",
              "124412      300     2200      20      100     100              45   \n",
              "124413      300     1200      10      150     150              45   \n",
              "124414      300     1400      12      150     150              45   \n",
              "124415      300     1700      15      150     150              45   \n",
              "124416      300     2200      20      150     150              45   \n",
              "\n",
              "        switch_period  dFrac  КИН (100)  \n",
              "1                   1      0     0.0441  \n",
              "2                   3      0     0.0514  \n",
              "3                   6      0     0.0559  \n",
              "4                   1      0     0.1548  \n",
              "5                   3      0     0.1576  \n",
              "...               ...    ...        ...  \n",
              "124412          10000    100     0.0754  \n",
              "124413          10000    100     0.0769  \n",
              "124414          10000    100     0.0766  \n",
              "124415          10000    100     0.0764  \n",
              "124416          10000    100     0.0762  \n",
              "\n",
              "[124416 rows x 17 columns]"
            ]
          },
          "execution_count": 15,
          "metadata": {},
          "output_type": "execute_result"
        }
      ],
      "source": [
        "data\n"
      ]
    },
    {
      "cell_type": "markdown",
      "id": "7297d491",
      "metadata": {
        "id": "7297d491"
      },
      "source": [
        "### Перемешиваем данные и удаляем параметры с нулевой дисперсией"
      ]
    },
    {
      "cell_type": "code",
      "execution_count": 16,
      "id": "eu15_O5LuHY0",
      "metadata": {
        "colab": {
          "base_uri": "https://localhost:8080/"
        },
        "id": "eu15_O5LuHY0",
        "outputId": "4cfbdce7-bdc6-489d-9850-3b098cb83244"
      },
      "outputs": [
        {
          "data": {
            "text/plain": [
              "Index(['PORO', 'SW', 'KRW', 'system_number', '@NTG@', '@RVAR@', '@PERMX@',\n",
              "       'l_horiz', 'param_x', 'param_y', 'n_frac', 'xf_prod', 'xf_inj',\n",
              "       'rotation_angle', 'switch_period', 'dFrac', 'КИН (100)'],\n",
              "      dtype='object')"
            ]
          },
          "execution_count": 16,
          "metadata": {},
          "output_type": "execute_result"
        }
      ],
      "source": [
        "data.columns"
      ]
    },
    {
      "cell_type": "code",
      "execution_count": 17,
      "id": "hDzrndcfrGOf",
      "metadata": {
        "id": "hDzrndcfrGOf"
      },
      "outputs": [],
      "source": [
        "def subsample(data, frac, seed):  # **kwargs\n",
        "    return data.sample(frac=frac, random_state=seed).reset_index(drop=True)"
      ]
    },
    {
      "cell_type": "code",
      "execution_count": 18,
      "id": "e7KjVx3r07IL",
      "metadata": {
        "id": "e7KjVx3r07IL"
      },
      "outputs": [],
      "source": [
        "data_sample = subsample(data, frac=1, seed=42)"
      ]
    },
    {
      "cell_type": "code",
      "execution_count": 19,
      "id": "4WW7oqHRo7ND",
      "metadata": {
        "id": "4WW7oqHRo7ND"
      },
      "outputs": [],
      "source": [
        "categorical_cols = [\n",
        "    'system_number',\n",
        "    'rotation_angle'\n",
        "]\n",
        "\n",
        "numerical_cols = [\n",
        "    '@NTG@',\n",
        "    '@RVAR@',\n",
        "    '@PERMX@',\n",
        "    'l_horiz',\n",
        "    'param_x',\n",
        "    'n_frac',\n",
        "    'xf_prod',\n",
        "    'xf_inj',\n",
        "    'switch_period',\n",
        "    'dFrac'\n",
        "]\n",
        "\n",
        "\n",
        "cols_to_drop = [\n",
        "    'PORO',\n",
        "    'SW',\n",
        "    'KRW',\n",
        "    'param_y'\n",
        "]"
      ]
    },
    {
      "cell_type": "code",
      "execution_count": null,
      "id": "eccb5345",
      "metadata": {},
      "outputs": [],
      "source": [
        "from sklearn.pipeline import Pipeline, make_pipeline\n",
        "from sklearn.compose import ColumnTransformer\n",
        "from sklearn.linear_model import LinearRegression\n",
        "from sklearn.model_selection import train_test_split"
      ]
    },
    {
      "attachments": {},
      "cell_type": "markdown",
      "id": "8daee98c",
      "metadata": {},
      "source": [
        "## Pipeline with linear regression"
      ]
    },
    {
      "cell_type": "code",
      "execution_count": 20,
      "id": "8-N-rI0i1YFT",
      "metadata": {
        "colab": {
          "base_uri": "https://localhost:8080/"
        },
        "id": "8-N-rI0i1YFT",
        "outputId": "cf0cc737-6f46-447b-aea5-8204e2518fa1"
      },
      "outputs": [
        {
          "data": {
            "text/plain": [
              "Pipeline(steps=[('preprocessor',\n",
              "                 ColumnTransformer(transformers=[('num', MinMaxScaler(),\n",
              "                                                  ['@NTG@', '@RVAR@', '@PERMX@',\n",
              "                                                   'l_horiz', 'param_x',\n",
              "                                                   'n_frac', 'xf_prod',\n",
              "                                                   'xf_inj', 'switch_period',\n",
              "                                                   'dFrac']),\n",
              "                                                 ('cat',\n",
              "                                                  OneHotEncoder(drop='first'),\n",
              "                                                  ['system_number',\n",
              "                                                   'rotation_angle'])])),\n",
              "                ('regressor', LinearRegression())])"
            ]
          },
          "execution_count": 20,
          "metadata": {},
          "output_type": "execute_result"
        }
      ],
      "source": [
        "X_train, X_test, y_train, y_test = train_test_split(\n",
        "    data.drop(columns=cols_to_drop + ['КИН (100)']),\n",
        "    data['КИН (100)'],\n",
        "    test_size=0.2,\n",
        "    random_state=42\n",
        ")\n",
        "\n",
        "preprocessor = ColumnTransformer([\n",
        "    # Apply MinMaxScaler to numerical data\n",
        "    ('num', MinMaxScaler(), numerical_cols),\n",
        "    # Apply OneHotEncoder to categorical data\n",
        "    ('cat', OneHotEncoder(drop='first'), categorical_cols)\n",
        "])\n",
        "\n",
        "lin_reg = Pipeline([\n",
        "    ('preprocessor', preprocessor),\n",
        "    ('regressor', LinearRegression())\n",
        "])\n",
        "\n",
        "lin_reg.fit(X_train, y_train)"
      ]
    },
    {
      "cell_type": "code",
      "execution_count": 21,
      "id": "lveD_Yy46dyD",
      "metadata": {
        "id": "lveD_Yy46dyD"
      },
      "outputs": [],
      "source": [
        "lin_reg_pred = lin_reg.predict(X_test)\n",
        "score = lin_reg.score(X_test, y_test).round(3)"
      ]
    },
    {
      "cell_type": "code",
      "execution_count": 40,
      "id": "817bb1c9",
      "metadata": {
        "id": "817bb1c9",
        "scrolled": false
      },
      "outputs": [],
      "source": [
        "def residual_plot(target, prediction, score=None, marks=10):\n",
        "    fig, ax = plt.subplots()\n",
        "    plt.rcParams[\"figure.figsize\"] = (8, 8)\n",
        "\n",
        "    if score:\n",
        "        ax.set_title(f'Residual_plot (R2 ={score.round(3)})')\n",
        "\n",
        "    ax.plot(target, prediction, \"o\", markevery=marks)\n",
        "    ax.plot([0, 0.5], [0, 0.5], 'k--', lw=3)\n",
        "    ax.set_xlabel('Measured')\n",
        "    ax.set_ylabel('Predicted')\n",
        "    ax.set_ylim(bottom=0, top=0.5)\n",
        "    ax.set_xlim(left=0, right=0.5)\n",
        "\n",
        "    plt.show()"
      ]
    },
    {
      "cell_type": "code",
      "execution_count": 23,
      "id": "6b56f4d8",
      "metadata": {
        "colab": {
          "base_uri": "https://localhost:8080/",
          "height": 295
        },
        "id": "6b56f4d8",
        "outputId": "4fead2c9-7441-4d19-b80a-2f7e8a11abb5"
      },
      "outputs": [
        {
          "data": {
            "image/png": "[encoded data removed]",
            "text/plain": [
              "<Figure size 432x288 with 1 Axes>"
            ]
          },
          "metadata": {
            "needs_background": "light"
          },
          "output_type": "display_data"
        }
      ],
      "source": [
        "residual_plot(y_test, lin_reg_pred, score)"
      ]
    },
    {
      "cell_type": "code",
      "execution_count": 80,
      "id": "yw3PFaixS-K3",
      "metadata": {
        "colab": {
          "base_uri": "https://localhost:8080/",
          "height": 467
        },
        "id": "yw3PFaixS-K3",
        "outputId": "8ddaf7c7-45f3-4236-83b0-3a778e64ce74"
      },
      "outputs": [
        {
          "data": {
            "text/html": [
              "\n",
              "  <div id=\"df-2aea958d-c683-45c3-ad71-60b1d19aa7f8\">\n",
              "    <div class=\"colab-df-container\">\n",
              "      <div>\n",
              "<style scoped>\n",
              "    .dataframe tbody tr th:only-of-type {\n",
              "        vertical-align: middle;\n",
              "    }\n",
              "\n",
              "    .dataframe tbody tr th {\n",
              "        vertical-align: top;\n",
              "    }\n",
              "\n",
              "    .dataframe thead th {\n",
              "        text-align: right;\n",
              "    }\n",
              "</style>\n",
              "<table border=\"1\" class=\"dataframe\">\n",
              "  <thead>\n",
              "    <tr style=\"text-align: right;\">\n",
              "      <th></th>\n",
              "      <th>PORO</th>\n",
              "      <th>SW</th>\n",
              "      <th>KRW</th>\n",
              "      <th>system_number</th>\n",
              "      <th>@NTG@</th>\n",
              "      <th>@RVAR@</th>\n",
              "      <th>@PERMX@</th>\n",
              "      <th>l_horiz</th>\n",
              "      <th>param_x</th>\n",
              "      <th>param_y</th>\n",
              "      <th>n_frac</th>\n",
              "      <th>xf_prod</th>\n",
              "      <th>xf_inj</th>\n",
              "      <th>rotation_angle</th>\n",
              "      <th>switch_period</th>\n",
              "      <th>dFrac</th>\n",
              "      <th>КИН (100)</th>\n",
              "    </tr>\n",
              "  </thead>\n",
              "  <tbody>\n",
              "    <tr>\n",
              "      <th>12442</th>\n",
              "      <td>0.17</td>\n",
              "      <td>0.3</td>\n",
              "      <td>0.15</td>\n",
              "      <td>101</td>\n",
              "      <td>0.1</td>\n",
              "      <td>50</td>\n",
              "      <td>2.0</td>\n",
              "      <td>0</td>\n",
              "      <td>300</td>\n",
              "      <td>300</td>\n",
              "      <td>1</td>\n",
              "      <td>100</td>\n",
              "      <td>100</td>\n",
              "      <td>45</td>\n",
              "      <td>10000</td>\n",
              "      <td>0</td>\n",
              "      <td>0.0304</td>\n",
              "    </tr>\n",
              "    <tr>\n",
              "      <th>12443</th>\n",
              "      <td>0.17</td>\n",
              "      <td>0.3</td>\n",
              "      <td>0.15</td>\n",
              "      <td>101</td>\n",
              "      <td>0.1</td>\n",
              "      <td>50</td>\n",
              "      <td>2.0</td>\n",
              "      <td>0</td>\n",
              "      <td>300</td>\n",
              "      <td>300</td>\n",
              "      <td>1</td>\n",
              "      <td>100</td>\n",
              "      <td>100</td>\n",
              "      <td>0</td>\n",
              "      <td>10000</td>\n",
              "      <td>0</td>\n",
              "      <td>0.0223</td>\n",
              "    </tr>\n",
              "    <tr>\n",
              "      <th>12444</th>\n",
              "      <td>0.17</td>\n",
              "      <td>0.3</td>\n",
              "      <td>0.15</td>\n",
              "      <td>101</td>\n",
              "      <td>0.1</td>\n",
              "      <td>50</td>\n",
              "      <td>2.0</td>\n",
              "      <td>0</td>\n",
              "      <td>300</td>\n",
              "      <td>300</td>\n",
              "      <td>1</td>\n",
              "      <td>100</td>\n",
              "      <td>100</td>\n",
              "      <td>90</td>\n",
              "      <td>10000</td>\n",
              "      <td>0</td>\n",
              "      <td>0.0414</td>\n",
              "    </tr>\n",
              "    <tr>\n",
              "      <th>12445</th>\n",
              "      <td>0.17</td>\n",
              "      <td>0.3</td>\n",
              "      <td>0.15</td>\n",
              "      <td>101</td>\n",
              "      <td>0.1</td>\n",
              "      <td>50</td>\n",
              "      <td>2.0</td>\n",
              "      <td>0</td>\n",
              "      <td>300</td>\n",
              "      <td>300</td>\n",
              "      <td>1</td>\n",
              "      <td>150</td>\n",
              "      <td>150</td>\n",
              "      <td>45</td>\n",
              "      <td>10000</td>\n",
              "      <td>0</td>\n",
              "      <td>0.0385</td>\n",
              "    </tr>\n",
              "    <tr>\n",
              "      <th>12446</th>\n",
              "      <td>0.17</td>\n",
              "      <td>0.3</td>\n",
              "      <td>0.15</td>\n",
              "      <td>101</td>\n",
              "      <td>0.1</td>\n",
              "      <td>50</td>\n",
              "      <td>2.0</td>\n",
              "      <td>0</td>\n",
              "      <td>300</td>\n",
              "      <td>300</td>\n",
              "      <td>1</td>\n",
              "      <td>150</td>\n",
              "      <td>150</td>\n",
              "      <td>0</td>\n",
              "      <td>10000</td>\n",
              "      <td>0</td>\n",
              "      <td>0.0468</td>\n",
              "    </tr>\n",
              "    <tr>\n",
              "      <th>...</th>\n",
              "      <td>...</td>\n",
              "      <td>...</td>\n",
              "      <td>...</td>\n",
              "      <td>...</td>\n",
              "      <td>...</td>\n",
              "      <td>...</td>\n",
              "      <td>...</td>\n",
              "      <td>...</td>\n",
              "      <td>...</td>\n",
              "      <td>...</td>\n",
              "      <td>...</td>\n",
              "      <td>...</td>\n",
              "      <td>...</td>\n",
              "      <td>...</td>\n",
              "      <td>...</td>\n",
              "      <td>...</td>\n",
              "      <td>...</td>\n",
              "    </tr>\n",
              "    <tr>\n",
              "      <th>124412</th>\n",
              "      <td>0.17</td>\n",
              "      <td>0.3</td>\n",
              "      <td>0.15</td>\n",
              "      <td>1301</td>\n",
              "      <td>0.6</td>\n",
              "      <td>1000</td>\n",
              "      <td>2.0</td>\n",
              "      <td>2000</td>\n",
              "      <td>300</td>\n",
              "      <td>2200</td>\n",
              "      <td>20</td>\n",
              "      <td>100</td>\n",
              "      <td>100</td>\n",
              "      <td>45</td>\n",
              "      <td>10000</td>\n",
              "      <td>100</td>\n",
              "      <td>0.0754</td>\n",
              "    </tr>\n",
              "    <tr>\n",
              "      <th>124413</th>\n",
              "      <td>0.17</td>\n",
              "      <td>0.3</td>\n",
              "      <td>0.15</td>\n",
              "      <td>1301</td>\n",
              "      <td>0.6</td>\n",
              "      <td>1000</td>\n",
              "      <td>2.0</td>\n",
              "      <td>1000</td>\n",
              "      <td>300</td>\n",
              "      <td>1200</td>\n",
              "      <td>10</td>\n",
              "      <td>150</td>\n",
              "      <td>150</td>\n",
              "      <td>45</td>\n",
              "      <td>10000</td>\n",
              "      <td>100</td>\n",
              "      <td>0.0769</td>\n",
              "    </tr>\n",
              "    <tr>\n",
              "      <th>124414</th>\n",
              "      <td>0.17</td>\n",
              "      <td>0.3</td>\n",
              "      <td>0.15</td>\n",
              "      <td>1301</td>\n",
              "      <td>0.6</td>\n",
              "      <td>1000</td>\n",
              "      <td>2.0</td>\n",
              "      <td>1200</td>\n",
              "      <td>300</td>\n",
              "      <td>1400</td>\n",
              "      <td>12</td>\n",
              "      <td>150</td>\n",
              "      <td>150</td>\n",
              "      <td>45</td>\n",
              "      <td>10000</td>\n",
              "      <td>100</td>\n",
              "      <td>0.0766</td>\n",
              "    </tr>\n",
              "    <tr>\n",
              "      <th>124415</th>\n",
              "      <td>0.17</td>\n",
              "      <td>0.3</td>\n",
              "      <td>0.15</td>\n",
              "      <td>1301</td>\n",
              "      <td>0.6</td>\n",
              "      <td>1000</td>\n",
              "      <td>2.0</td>\n",
              "      <td>1500</td>\n",
              "      <td>300</td>\n",
              "      <td>1700</td>\n",
              "      <td>15</td>\n",
              "      <td>150</td>\n",
              "      <td>150</td>\n",
              "      <td>45</td>\n",
              "      <td>10000</td>\n",
              "      <td>100</td>\n",
              "      <td>0.0764</td>\n",
              "    </tr>\n",
              "    <tr>\n",
              "      <th>124416</th>\n",
              "      <td>0.17</td>\n",
              "      <td>0.3</td>\n",
              "      <td>0.15</td>\n",
              "      <td>1301</td>\n",
              "      <td>0.6</td>\n",
              "      <td>1000</td>\n",
              "      <td>2.0</td>\n",
              "      <td>2000</td>\n",
              "      <td>300</td>\n",
              "      <td>2200</td>\n",
              "      <td>20</td>\n",
              "      <td>150</td>\n",
              "      <td>150</td>\n",
              "      <td>45</td>\n",
              "      <td>10000</td>\n",
              "      <td>100</td>\n",
              "      <td>0.0762</td>\n",
              "    </tr>\n",
              "  </tbody>\n",
              "</table>\n",
              "<p>111975 rows × 17 columns</p>\n",
              "</div>\n",
              "      <button class=\"colab-df-convert\" onclick=\"convertToInteractive('df-2aea958d-c683-45c3-ad71-60b1d19aa7f8')\"\n",
              "              title=\"Convert this dataframe to an interactive table.\"\n",
              "              style=\"display:none;\">\n",
              "        \n",
              "  <svg xmlns=\"http://www.w3.org/2000/svg\" height=\"24px\"viewBox=\"0 0 24 24\"\n",
              "       width=\"24px\">\n",
              "    <path d=\"M0 0h24v24H0V0z\" fill=\"none\"/>\n",
              "    <path d=\"M18.56 5.44l.94 2.06.94-2.06 2.06-.94-2.06-.94-.94-2.06-.94 2.06-2.06.94zm-11 1L8.5 8.5l.94-2.06 2.06-.94-2.06-.94L8.5 2.5l-.94 2.06-2.06.94zm10 10l.94 2.06.94-2.06 2.06-.94-2.06-.94-.94-2.06-.94 2.06-2.06.94z\"/><path d=\"M17.41 7.96l-1.37-1.37c-.4-.4-.92-.59-1.43-.59-.52 0-1.04.2-1.43.59L10.3 9.45l-7.72 7.72c-.78.78-.78 2.05 0 2.83L4 21.41c.39.39.9.59 1.41.59.51 0 1.02-.2 1.41-.59l7.78-7.78 2.81-2.81c.8-.78.8-2.07 0-2.86zM5.41 20L4 18.59l7.72-7.72 1.47 1.35L5.41 20z\"/>\n",
              "  </svg>\n",
              "      </button>\n",
              "      \n",
              "  <style>\n",
              "    .colab-df-container {\n",
              "      display:flex;\n",
              "      flex-wrap:wrap;\n",
              "      gap: 12px;\n",
              "    }\n",
              "\n",
              "    .colab-df-convert {\n",
              "      background-color: #E8F0FE;\n",
              "      border: none;\n",
              "      border-radius: 50%;\n",
              "      cursor: pointer;\n",
              "      display: none;\n",
              "      fill: #1967D2;\n",
              "      height: 32px;\n",
              "      padding: 0 0 0 0;\n",
              "      width: 32px;\n",
              "    }\n",
              "\n",
              "    .colab-df-convert:hover {\n",
              "      background-color: #E2EBFA;\n",
              "      box-shadow: 0px 1px 2px rgba(60, 64, 67, 0.3), 0px 1px 3px 1px rgba(60, 64, 67, 0.15);\n",
              "      fill: #174EA6;\n",
              "    }\n",
              "\n",
              "    [theme=dark] .colab-df-convert {\n",
              "      background-color: #3B4455;\n",
              "      fill: #D2E3FC;\n",
              "    }\n",
              "\n",
              "    [theme=dark] .colab-df-convert:hover {\n",
              "      background-color: #434B5C;\n",
              "      box-shadow: 0px 1px 3px 1px rgba(0, 0, 0, 0.15);\n",
              "      filter: drop-shadow(0px 1px 2px rgba(0, 0, 0, 0.3));\n",
              "      fill: #FFFFFF;\n",
              "    }\n",
              "  </style>\n",
              "\n",
              "      <script>\n",
              "        const buttonEl =\n",
              "          document.querySelector('#df-2aea958d-c683-45c3-ad71-60b1d19aa7f8 button.colab-df-convert');\n",
              "        buttonEl.style.display =\n",
              "          google.colab.kernel.accessAllowed ? 'block' : 'none';\n",
              "\n",
              "        async function convertToInteractive(key) {\n",
              "          const element = document.querySelector('#df-2aea958d-c683-45c3-ad71-60b1d19aa7f8');\n",
              "          const dataTable =\n",
              "            await google.colab.kernel.invokeFunction('convertToInteractive',\n",
              "                                                     [key], {});\n",
              "          if (!dataTable) return;\n",
              "\n",
              "          const docLinkHtml = 'Like what you see? Visit the ' +\n",
              "            '<a target=\"_blank\" href=https://colab.research.google.com/notebooks/data_table.ipynb>data table notebook</a>'\n",
              "            + ' to learn more about interactive tables.';\n",
              "          element.innerHTML = '';\n",
              "          dataTable['output_type'] = 'display_data';\n",
              "          await google.colab.output.renderOutput(dataTable, element);\n",
              "          const docLink = document.createElement('div');\n",
              "          docLink.innerHTML = docLinkHtml;\n",
              "          element.appendChild(docLink);\n",
              "        }\n",
              "      </script>\n",
              "    </div>\n",
              "  </div>\n",
              "  "
            ],
            "text/plain": [
              "        PORO   SW   KRW  system_number  @NTG@  @RVAR@  @PERMX@  l_horiz  \\\n",
              "12442   0.17  0.3  0.15            101    0.1      50      2.0        0   \n",
              "12443   0.17  0.3  0.15            101    0.1      50      2.0        0   \n",
              "12444   0.17  0.3  0.15            101    0.1      50      2.0        0   \n",
              "12445   0.17  0.3  0.15            101    0.1      50      2.0        0   \n",
              "12446   0.17  0.3  0.15            101    0.1      50      2.0        0   \n",
              "...      ...  ...   ...            ...    ...     ...      ...      ...   \n",
              "124412  0.17  0.3  0.15           1301    0.6    1000      2.0     2000   \n",
              "124413  0.17  0.3  0.15           1301    0.6    1000      2.0     1000   \n",
              "124414  0.17  0.3  0.15           1301    0.6    1000      2.0     1200   \n",
              "124415  0.17  0.3  0.15           1301    0.6    1000      2.0     1500   \n",
              "124416  0.17  0.3  0.15           1301    0.6    1000      2.0     2000   \n",
              "\n",
              "        param_x  param_y  n_frac  xf_prod  xf_inj  rotation_angle  \\\n",
              "12442       300      300       1      100     100              45   \n",
              "12443       300      300       1      100     100               0   \n",
              "12444       300      300       1      100     100              90   \n",
              "12445       300      300       1      150     150              45   \n",
              "12446       300      300       1      150     150               0   \n",
              "...         ...      ...     ...      ...     ...             ...   \n",
              "124412      300     2200      20      100     100              45   \n",
              "124413      300     1200      10      150     150              45   \n",
              "124414      300     1400      12      150     150              45   \n",
              "124415      300     1700      15      150     150              45   \n",
              "124416      300     2200      20      150     150              45   \n",
              "\n",
              "        switch_period  dFrac  КИН (100)  \n",
              "12442           10000      0     0.0304  \n",
              "12443           10000      0     0.0223  \n",
              "12444           10000      0     0.0414  \n",
              "12445           10000      0     0.0385  \n",
              "12446           10000      0     0.0468  \n",
              "...               ...    ...        ...  \n",
              "124412          10000    100     0.0754  \n",
              "124413          10000    100     0.0769  \n",
              "124414          10000    100     0.0766  \n",
              "124415          10000    100     0.0764  \n",
              "124416          10000    100     0.0762  \n",
              "\n",
              "[111975 rows x 17 columns]"
            ]
          },
          "execution_count": 80,
          "metadata": {},
          "output_type": "execute_result"
        }
      ],
      "source": [
        "data[12441:]\n"
      ]
    },
    {
      "attachments": {},
      "cell_type": "markdown",
      "id": "f5000c4b",
      "metadata": {},
      "source": [
        "## Fitting models on subsamples of data"
      ]
    },
    {
      "cell_type": "code",
      "execution_count": 88,
      "id": "VsCY_LJGONzD",
      "metadata": {
        "id": "VsCY_LJGONzD"
      },
      "outputs": [],
      "source": [
        "def partial_data_preds(data, pipeline, num_models, seed=42):  # сделать класс\n",
        "\n",
        "    predicts = []  # self.predicts - или даже задать метод предикт\n",
        "    scores = []\n",
        "    for i in np.linspace(0 + 1/num_models, 1, num_models):\n",
        "\n",
        "        data_sample = subsample(data, frac=i, seed=seed)\n",
        "        X_train, X_test, y_train, y_test = train_test_split(\n",
        "            data_sample.drop(columns=cols_to_drop + ['КИН (100)']),\n",
        "            data_sample['КИН (100)'],\n",
        "            test_size=0.2,\n",
        "            random_state=42\n",
        "        )\n",
        "\n",
        "        pipeline.fit(X_train, y_train)\n",
        "        # сохранять в .csv\n",
        "        predicts.append([np.array(y_test), pipeline.predict(X_test)])\n",
        "        scores.append([i.round(2), pipeline.score(\n",
        "            X_test, y_test).round(3)])  # сохранять в .csv\n",
        "    return predicts, scores\n"
      ]
    },
    {
      "cell_type": "code",
      "execution_count": 90,
      "id": "aDt5z4zLbHMw",
      "metadata": {
        "id": "aDt5z4zLbHMw"
      },
      "outputs": [],
      "source": [
        "from sklearn.ensemble import RandomForestRegressor\n",
        "forest = RandomForestRegressor()\n",
        "preds, score = partial_data_preds(data, forest, 20)"
      ]
    },
    {
      "cell_type": "code",
      "execution_count": 121,
      "id": "ZG1HaPDNAiT7",
      "metadata": {
        "colab": {
          "base_uri": "https://localhost:8080/"
        },
        "id": "ZG1HaPDNAiT7",
        "outputId": "e6a58b1a-ceb1-48d7-d05e-c1a28880dc8d"
      },
      "outputs": [
        {
          "name": "stdout",
          "output_type": "stream",
          "text": [
            "Looking in indexes: https://pypi.org/simple, https://us-python.pkg.dev/colab-wheels/public/simple/\n",
            "Collecting catboost\n",
            "  Downloading catboost-1.1.1-cp38-none-manylinux1_x86_64.whl (76.6 MB)\n",
            "\u001b[2K     \u001b[90m━━━━━━━━━━━━━━━━━━━━━━━━━━━━━━━━━━━━━━━━\u001b[0m \u001b[32m76.6/76.6 MB\u001b[0m \u001b[31m10.7 MB/s\u001b[0m eta \u001b[36m0:00:00\u001b[0m\n",
            "\u001b[?25hRequirement already satisfied: matplotlib in /usr/local/lib/python3.8/dist-packages (from catboost) (3.5.3)\n",
            "Requirement already satisfied: graphviz in /usr/local/lib/python3.8/dist-packages (from catboost) (0.10.1)\n",
            "Requirement already satisfied: scipy in /usr/local/lib/python3.8/dist-packages (from catboost) (1.7.3)\n",
            "Requirement already satisfied: pandas>=0.24.0 in /usr/local/lib/python3.8/dist-packages (from catboost) (1.3.5)\n",
            "Requirement already satisfied: six in /usr/local/lib/python3.8/dist-packages (from catboost) (1.15.0)\n",
            "Requirement already satisfied: numpy>=1.16.0 in /usr/local/lib/python3.8/dist-packages (from catboost) (1.22.4)\n",
            "Requirement already satisfied: plotly in /usr/local/lib/python3.8/dist-packages (from catboost) (5.5.0)\n",
            "Requirement already satisfied: python-dateutil>=2.7.3 in /usr/local/lib/python3.8/dist-packages (from pandas>=0.24.0->catboost) (2.8.2)\n",
            "Requirement already satisfied: pytz>=2017.3 in /usr/local/lib/python3.8/dist-packages (from pandas>=0.24.0->catboost) (2022.7.1)\n",
            "Requirement already satisfied: packaging>=20.0 in /usr/local/lib/python3.8/dist-packages (from matplotlib->catboost) (23.0)\n",
            "Requirement already satisfied: kiwisolver>=1.0.1 in /usr/local/lib/python3.8/dist-packages (from matplotlib->catboost) (1.4.4)\n",
            "Requirement already satisfied: cycler>=0.10 in /usr/local/lib/python3.8/dist-packages (from matplotlib->catboost) (0.11.0)\n",
            "Requirement already satisfied: fonttools>=4.22.0 in /usr/local/lib/python3.8/dist-packages (from matplotlib->catboost) (4.38.0)\n",
            "Requirement already satisfied: pillow>=6.2.0 in /usr/local/lib/python3.8/dist-packages (from matplotlib->catboost) (7.1.2)\n",
            "Requirement already satisfied: pyparsing>=2.2.1 in /usr/local/lib/python3.8/dist-packages (from matplotlib->catboost) (3.0.9)\n",
            "Requirement already satisfied: tenacity>=6.2.0 in /usr/local/lib/python3.8/dist-packages (from plotly->catboost) (8.2.1)\n",
            "Installing collected packages: catboost\n",
            "Successfully installed catboost-1.1.1\n"
          ]
        }
      ],
      "source": [
        "!pip install catboost - q"
      ]
    },
    {
      "cell_type": "code",
      "execution_count": 123,
      "id": "FtelgONoAN7Y",
      "metadata": {
        "id": "FtelgONoAN7Y"
      },
      "outputs": [],
      "source": [
        "from catboost import CatBoostRegressor\n",
        "cat = CatBoostRegressor(cat_features=categorical_cols)"
      ]
    },
    {
      "cell_type": "code",
      "execution_count": null,
      "id": "CZB1qfVzBCso",
      "metadata": {
        "id": "CZB1qfVzBCso"
      },
      "outputs": [],
      "source": [
        "preds_cat, score_cat = partial_data_preds(data, cat, 10)"
      ]
    },
    {
      "cell_type": "code",
      "execution_count": 125,
      "id": "8agK78yrDV_C",
      "metadata": {
        "colab": {
          "base_uri": "https://localhost:8080/",
          "height": 500
        },
        "id": "8agK78yrDV_C",
        "outputId": "efd21fd9-5b16-4497-e278-cfccd47007be"
      },
      "outputs": [
        {
          "data": {
            "text/plain": [
              "[<matplotlib.lines.Line2D at 0x7fa330e32160>]"
            ]
          },
          "execution_count": 125,
          "metadata": {},
          "output_type": "execute_result"
        },
        {
          "data": {
            "image/png": "[encoded data removed]",
            "text/plain": [
              "<Figure size 576x576 with 1 Axes>"
            ]
          },
          "metadata": {
            "needs_background": "light"
          },
          "output_type": "display_data"
        }
      ],
      "source": [
        "plt.plot(np.array(score_cat)[:, 0], np.array(score_cat)[:, 1])"
      ]
    },
    {
      "cell_type": "code",
      "execution_count": 128,
      "id": "094vmo8ZrqUl",
      "metadata": {
        "colab": {
          "base_uri": "https://localhost:8080/",
          "height": 500
        },
        "id": "094vmo8ZrqUl",
        "outputId": "71aacdb5-59a4-4733-f586-51a762e8229c"
      },
      "outputs": [
        {
          "data": {
            "text/plain": [
              "[<matplotlib.lines.Line2D at 0x7fa330d5f4c0>]"
            ]
          },
          "execution_count": 128,
          "metadata": {},
          "output_type": "execute_result"
        },
        {
          "data": {
            "image/png": "[encoded data removed]",
            "text/plain": [
              "<Figure size 576x576 with 1 Axes>"
            ]
          },
          "metadata": {
            "needs_background": "light"
          },
          "output_type": "display_data"
        }
      ],
      "source": [
        "fig, ax = plt.subplots()\n",
        "ax.plot(np.array(score)[:, 0], np.array(score)[:, 1], 'r')\n",
        "ax.plot(np.array(score_cat)[:, 0], np.array(score_cat)[:, 1])"
      ]
    },
    {
      "cell_type": "code",
      "execution_count": 127,
      "id": "q7Fjo6yfrSSS",
      "metadata": {
        "colab": {
          "base_uri": "https://localhost:8080/",
          "height": 513
        },
        "id": "q7Fjo6yfrSSS",
        "outputId": "68b04d4d-1b6a-4d6b-ed1b-c01d4b7af32c"
      },
      "outputs": [
        {
          "data": {
            "image/png": "[encoded data removed]",
            "text/plain": [
              "<Figure size 576x576 with 1 Axes>"
            ]
          },
          "metadata": {
            "needs_background": "light"
          },
          "output_type": "display_data"
        }
      ],
      "source": [
        "residual_plot(preds_cat[9][0], preds_cat[9][1], score_cat[9][1], 10)\n"
      ]
    }
  ],
  "metadata": {
    "colab": {
      "include_colab_link": true,
      "provenance": []
    },
    "gpuClass": "standard",
    "kernelspec": {
      "display_name": "Python 3 (ipykernel)",
      "language": "python",
      "name": "python3"
    },
    "language_info": {
      "codemirror_mode": {
        "name": "ipython",
        "version": 3
      },
      "file_extension": ".py",
      "mimetype": "text/x-python",
      "name": "python",
      "nbconvert_exporter": "python",
      "pygments_lexer": "ipython3",
      "version": "3.8.12"
    }
  },
  "nbformat": 4,
  "nbformat_minor": 5
}
